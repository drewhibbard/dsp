{
 "cells": [
  {
   "cell_type": "markdown",
   "metadata": {},
   "source": [
    "Exercise 1  \n",
    "\n",
    "The distribution of income is famously skewed to the right. In this exercise, we’ll measure how strong that skew is.\n",
    "\n",
    "The Current Population Survey (CPS) is a joint effort of the Bureau of Labor Statistics and the Census Bureau to study income and related variables. Data collected in 2013 is available from http://www.census.gov/hhes/www/cpstables/032013/hhinc/toc.htm. I downloaded hinc06.xls, which is an Excel spreadsheet with information about household income, and converted it to hinc06.csv, a CSV file you will find in the repository for this book. You will also find hinc2.py, which reads this file and transforms the data.\n",
    "\n",
    "The dataset is in the form of a series of income ranges and the number of respondents who fell in each range. The lowest range includes respondents who reported annual household income “Under $5000.” The highest range includes respondents who made “$250,000 or more.”\n",
    "\n",
    "To estimate mean and other statistics from these data, we have to make some assumptions about the lower and upper bounds, and how the values are distributed in each range. hinc2.py provides InterpolateSample, which shows one way to model this data. It takes a DataFrame with a column, income, that contains the upper bound of each range, and freq, which contains the number of respondents in each frame.\n",
    "\n",
    "It also takes log_upper, which is an assumed upper bound on the highest range, expressed in log10 dollars. The default value, log_upper=6.0 represents the assumption that the largest income among the respondents is 106, or one million dollars.\n",
    "\n",
    "InterpolateSample generates a pseudo-sample; that is, a sample of household incomes that yields the same number of respondents in each range as the actual data. It assumes that incomes in each range are equally spaced on a log10 scale.\n",
    "\n",
    "Compute the median, mean, skewness and Pearson’s skewness of the resulting sample. What fraction of households reports a taxable income below the mean? How do the results depend on the assumed upper bound? "
   ]
  },
  {
   "cell_type": "code",
   "execution_count": 1,
   "metadata": {},
   "outputs": [],
   "source": [
    "import numpy as np\n",
    "import pandas as pd\n",
    "import matplotlib.pyplot as plt\n",
    "import seaborn as sns\n",
    "from scipy import stats\n",
    "%matplotlib inline\n",
    "sns.set()"
   ]
  },
  {
   "cell_type": "code",
   "execution_count": 2,
   "metadata": {},
   "outputs": [],
   "source": [
    "import hinc"
   ]
  },
  {
   "cell_type": "code",
   "execution_count": 3,
   "metadata": {},
   "outputs": [],
   "source": [
    "cps = hinc.ReadData()"
   ]
  },
  {
   "cell_type": "code",
   "execution_count": 4,
   "metadata": {},
   "outputs": [
    {
     "data": {
      "text/html": [
       "<div>\n",
       "<style scoped>\n",
       "    .dataframe tbody tr th:only-of-type {\n",
       "        vertical-align: middle;\n",
       "    }\n",
       "\n",
       "    .dataframe tbody tr th {\n",
       "        vertical-align: top;\n",
       "    }\n",
       "\n",
       "    .dataframe thead th {\n",
       "        text-align: right;\n",
       "    }\n",
       "</style>\n",
       "<table border=\"1\" class=\"dataframe\">\n",
       "  <thead>\n",
       "    <tr style=\"text-align: right;\">\n",
       "      <th></th>\n",
       "      <th>income</th>\n",
       "      <th>freq</th>\n",
       "      <th>cumsum</th>\n",
       "      <th>ps</th>\n",
       "    </tr>\n",
       "  </thead>\n",
       "  <tbody>\n",
       "    <tr>\n",
       "      <th>0</th>\n",
       "      <td>4999.0</td>\n",
       "      <td>4204</td>\n",
       "      <td>4204</td>\n",
       "      <td>0.034330</td>\n",
       "    </tr>\n",
       "    <tr>\n",
       "      <th>1</th>\n",
       "      <td>9999.0</td>\n",
       "      <td>4729</td>\n",
       "      <td>8933</td>\n",
       "      <td>0.072947</td>\n",
       "    </tr>\n",
       "    <tr>\n",
       "      <th>2</th>\n",
       "      <td>14999.0</td>\n",
       "      <td>6982</td>\n",
       "      <td>15915</td>\n",
       "      <td>0.129963</td>\n",
       "    </tr>\n",
       "    <tr>\n",
       "      <th>3</th>\n",
       "      <td>19999.0</td>\n",
       "      <td>7157</td>\n",
       "      <td>23072</td>\n",
       "      <td>0.188407</td>\n",
       "    </tr>\n",
       "    <tr>\n",
       "      <th>4</th>\n",
       "      <td>24999.0</td>\n",
       "      <td>7131</td>\n",
       "      <td>30203</td>\n",
       "      <td>0.246640</td>\n",
       "    </tr>\n",
       "    <tr>\n",
       "      <th>5</th>\n",
       "      <td>29999.0</td>\n",
       "      <td>6740</td>\n",
       "      <td>36943</td>\n",
       "      <td>0.301679</td>\n",
       "    </tr>\n",
       "    <tr>\n",
       "      <th>6</th>\n",
       "      <td>34999.0</td>\n",
       "      <td>6354</td>\n",
       "      <td>43297</td>\n",
       "      <td>0.353566</td>\n",
       "    </tr>\n",
       "    <tr>\n",
       "      <th>7</th>\n",
       "      <td>39999.0</td>\n",
       "      <td>5832</td>\n",
       "      <td>49129</td>\n",
       "      <td>0.401191</td>\n",
       "    </tr>\n",
       "    <tr>\n",
       "      <th>8</th>\n",
       "      <td>44999.0</td>\n",
       "      <td>5547</td>\n",
       "      <td>54676</td>\n",
       "      <td>0.446488</td>\n",
       "    </tr>\n",
       "    <tr>\n",
       "      <th>9</th>\n",
       "      <td>49999.0</td>\n",
       "      <td>5254</td>\n",
       "      <td>59930</td>\n",
       "      <td>0.489392</td>\n",
       "    </tr>\n",
       "    <tr>\n",
       "      <th>10</th>\n",
       "      <td>54999.0</td>\n",
       "      <td>5102</td>\n",
       "      <td>65032</td>\n",
       "      <td>0.531056</td>\n",
       "    </tr>\n",
       "    <tr>\n",
       "      <th>11</th>\n",
       "      <td>59999.0</td>\n",
       "      <td>4256</td>\n",
       "      <td>69288</td>\n",
       "      <td>0.565810</td>\n",
       "    </tr>\n",
       "    <tr>\n",
       "      <th>12</th>\n",
       "      <td>64999.0</td>\n",
       "      <td>4356</td>\n",
       "      <td>73644</td>\n",
       "      <td>0.601382</td>\n",
       "    </tr>\n",
       "    <tr>\n",
       "      <th>13</th>\n",
       "      <td>69999.0</td>\n",
       "      <td>3949</td>\n",
       "      <td>77593</td>\n",
       "      <td>0.633629</td>\n",
       "    </tr>\n",
       "    <tr>\n",
       "      <th>14</th>\n",
       "      <td>74999.0</td>\n",
       "      <td>3756</td>\n",
       "      <td>81349</td>\n",
       "      <td>0.664301</td>\n",
       "    </tr>\n",
       "    <tr>\n",
       "      <th>15</th>\n",
       "      <td>79999.0</td>\n",
       "      <td>3414</td>\n",
       "      <td>84763</td>\n",
       "      <td>0.692180</td>\n",
       "    </tr>\n",
       "    <tr>\n",
       "      <th>16</th>\n",
       "      <td>84999.0</td>\n",
       "      <td>3326</td>\n",
       "      <td>88089</td>\n",
       "      <td>0.719341</td>\n",
       "    </tr>\n",
       "    <tr>\n",
       "      <th>17</th>\n",
       "      <td>89999.0</td>\n",
       "      <td>2643</td>\n",
       "      <td>90732</td>\n",
       "      <td>0.740923</td>\n",
       "    </tr>\n",
       "    <tr>\n",
       "      <th>18</th>\n",
       "      <td>94999.0</td>\n",
       "      <td>2678</td>\n",
       "      <td>93410</td>\n",
       "      <td>0.762792</td>\n",
       "    </tr>\n",
       "    <tr>\n",
       "      <th>19</th>\n",
       "      <td>99999.0</td>\n",
       "      <td>2223</td>\n",
       "      <td>95633</td>\n",
       "      <td>0.780945</td>\n",
       "    </tr>\n",
       "    <tr>\n",
       "      <th>20</th>\n",
       "      <td>104999.0</td>\n",
       "      <td>2606</td>\n",
       "      <td>98239</td>\n",
       "      <td>0.802226</td>\n",
       "    </tr>\n",
       "    <tr>\n",
       "      <th>21</th>\n",
       "      <td>109999.0</td>\n",
       "      <td>1838</td>\n",
       "      <td>100077</td>\n",
       "      <td>0.817235</td>\n",
       "    </tr>\n",
       "    <tr>\n",
       "      <th>22</th>\n",
       "      <td>114999.0</td>\n",
       "      <td>1986</td>\n",
       "      <td>102063</td>\n",
       "      <td>0.833453</td>\n",
       "    </tr>\n",
       "    <tr>\n",
       "      <th>23</th>\n",
       "      <td>119999.0</td>\n",
       "      <td>1464</td>\n",
       "      <td>103527</td>\n",
       "      <td>0.845408</td>\n",
       "    </tr>\n",
       "    <tr>\n",
       "      <th>24</th>\n",
       "      <td>124999.0</td>\n",
       "      <td>1596</td>\n",
       "      <td>105123</td>\n",
       "      <td>0.858441</td>\n",
       "    </tr>\n",
       "    <tr>\n",
       "      <th>25</th>\n",
       "      <td>129999.0</td>\n",
       "      <td>1327</td>\n",
       "      <td>106450</td>\n",
       "      <td>0.869278</td>\n",
       "    </tr>\n",
       "    <tr>\n",
       "      <th>26</th>\n",
       "      <td>134999.0</td>\n",
       "      <td>1253</td>\n",
       "      <td>107703</td>\n",
       "      <td>0.879510</td>\n",
       "    </tr>\n",
       "    <tr>\n",
       "      <th>27</th>\n",
       "      <td>139999.0</td>\n",
       "      <td>1140</td>\n",
       "      <td>108843</td>\n",
       "      <td>0.888819</td>\n",
       "    </tr>\n",
       "    <tr>\n",
       "      <th>28</th>\n",
       "      <td>144999.0</td>\n",
       "      <td>1119</td>\n",
       "      <td>109962</td>\n",
       "      <td>0.897957</td>\n",
       "    </tr>\n",
       "    <tr>\n",
       "      <th>29</th>\n",
       "      <td>149999.0</td>\n",
       "      <td>920</td>\n",
       "      <td>110882</td>\n",
       "      <td>0.905470</td>\n",
       "    </tr>\n",
       "    <tr>\n",
       "      <th>30</th>\n",
       "      <td>154999.0</td>\n",
       "      <td>1143</td>\n",
       "      <td>112025</td>\n",
       "      <td>0.914803</td>\n",
       "    </tr>\n",
       "    <tr>\n",
       "      <th>31</th>\n",
       "      <td>159999.0</td>\n",
       "      <td>805</td>\n",
       "      <td>112830</td>\n",
       "      <td>0.921377</td>\n",
       "    </tr>\n",
       "    <tr>\n",
       "      <th>32</th>\n",
       "      <td>164999.0</td>\n",
       "      <td>731</td>\n",
       "      <td>113561</td>\n",
       "      <td>0.927347</td>\n",
       "    </tr>\n",
       "    <tr>\n",
       "      <th>33</th>\n",
       "      <td>169999.0</td>\n",
       "      <td>575</td>\n",
       "      <td>114136</td>\n",
       "      <td>0.932042</td>\n",
       "    </tr>\n",
       "    <tr>\n",
       "      <th>34</th>\n",
       "      <td>174999.0</td>\n",
       "      <td>616</td>\n",
       "      <td>114752</td>\n",
       "      <td>0.937072</td>\n",
       "    </tr>\n",
       "    <tr>\n",
       "      <th>35</th>\n",
       "      <td>179999.0</td>\n",
       "      <td>570</td>\n",
       "      <td>115322</td>\n",
       "      <td>0.941727</td>\n",
       "    </tr>\n",
       "    <tr>\n",
       "      <th>36</th>\n",
       "      <td>184999.0</td>\n",
       "      <td>502</td>\n",
       "      <td>115824</td>\n",
       "      <td>0.945826</td>\n",
       "    </tr>\n",
       "    <tr>\n",
       "      <th>37</th>\n",
       "      <td>189999.0</td>\n",
       "      <td>364</td>\n",
       "      <td>116188</td>\n",
       "      <td>0.948799</td>\n",
       "    </tr>\n",
       "    <tr>\n",
       "      <th>38</th>\n",
       "      <td>194999.0</td>\n",
       "      <td>432</td>\n",
       "      <td>116620</td>\n",
       "      <td>0.952327</td>\n",
       "    </tr>\n",
       "    <tr>\n",
       "      <th>39</th>\n",
       "      <td>199999.0</td>\n",
       "      <td>378</td>\n",
       "      <td>116998</td>\n",
       "      <td>0.955413</td>\n",
       "    </tr>\n",
       "    <tr>\n",
       "      <th>40</th>\n",
       "      <td>249999.0</td>\n",
       "      <td>2549</td>\n",
       "      <td>119547</td>\n",
       "      <td>0.976229</td>\n",
       "    </tr>\n",
       "    <tr>\n",
       "      <th>41</th>\n",
       "      <td>inf</td>\n",
       "      <td>2911</td>\n",
       "      <td>122458</td>\n",
       "      <td>1.000000</td>\n",
       "    </tr>\n",
       "  </tbody>\n",
       "</table>\n",
       "</div>"
      ],
      "text/plain": [
       "      income  freq  cumsum        ps\n",
       "0     4999.0  4204    4204  0.034330\n",
       "1     9999.0  4729    8933  0.072947\n",
       "2    14999.0  6982   15915  0.129963\n",
       "3    19999.0  7157   23072  0.188407\n",
       "4    24999.0  7131   30203  0.246640\n",
       "5    29999.0  6740   36943  0.301679\n",
       "6    34999.0  6354   43297  0.353566\n",
       "7    39999.0  5832   49129  0.401191\n",
       "8    44999.0  5547   54676  0.446488\n",
       "9    49999.0  5254   59930  0.489392\n",
       "10   54999.0  5102   65032  0.531056\n",
       "11   59999.0  4256   69288  0.565810\n",
       "12   64999.0  4356   73644  0.601382\n",
       "13   69999.0  3949   77593  0.633629\n",
       "14   74999.0  3756   81349  0.664301\n",
       "15   79999.0  3414   84763  0.692180\n",
       "16   84999.0  3326   88089  0.719341\n",
       "17   89999.0  2643   90732  0.740923\n",
       "18   94999.0  2678   93410  0.762792\n",
       "19   99999.0  2223   95633  0.780945\n",
       "20  104999.0  2606   98239  0.802226\n",
       "21  109999.0  1838  100077  0.817235\n",
       "22  114999.0  1986  102063  0.833453\n",
       "23  119999.0  1464  103527  0.845408\n",
       "24  124999.0  1596  105123  0.858441\n",
       "25  129999.0  1327  106450  0.869278\n",
       "26  134999.0  1253  107703  0.879510\n",
       "27  139999.0  1140  108843  0.888819\n",
       "28  144999.0  1119  109962  0.897957\n",
       "29  149999.0   920  110882  0.905470\n",
       "30  154999.0  1143  112025  0.914803\n",
       "31  159999.0   805  112830  0.921377\n",
       "32  164999.0   731  113561  0.927347\n",
       "33  169999.0   575  114136  0.932042\n",
       "34  174999.0   616  114752  0.937072\n",
       "35  179999.0   570  115322  0.941727\n",
       "36  184999.0   502  115824  0.945826\n",
       "37  189999.0   364  116188  0.948799\n",
       "38  194999.0   432  116620  0.952327\n",
       "39  199999.0   378  116998  0.955413\n",
       "40  249999.0  2549  119547  0.976229\n",
       "41       inf  2911  122458  1.000000"
      ]
     },
     "execution_count": 4,
     "metadata": {},
     "output_type": "execute_result"
    }
   ],
   "source": [
    "cps"
   ]
  },
  {
   "cell_type": "code",
   "execution_count": 5,
   "metadata": {},
   "outputs": [],
   "source": [
    "import hinc2"
   ]
  },
  {
   "cell_type": "code",
   "execution_count": 6,
   "metadata": {},
   "outputs": [],
   "source": [
    "cps = cps.replace(np.inf,1e6)"
   ]
  },
  {
   "cell_type": "code",
   "execution_count": 7,
   "metadata": {},
   "outputs": [
    {
     "data": {
      "text/plain": [
       "<matplotlib.axes._subplots.AxesSubplot at 0x7f9f821cce50>"
      ]
     },
     "execution_count": 7,
     "metadata": {},
     "output_type": "execute_result"
    },
    {
     "data": {
      "image/png": "[encoded data removed]",
      "text/plain": [
       "<Figure size 432x288 with 1 Axes>"
      ]
     },
     "metadata": {},
     "output_type": "display_data"
    }
   ],
   "source": [
    "sns.barplot(cps.income,cps.freq,color='b')"
   ]
  },
  {
   "cell_type": "code",
   "execution_count": 24,
   "metadata": {},
   "outputs": [
    {
     "name": "stderr",
     "output_type": "stream",
     "text": [
      "/Users/drewhibbard/Documents/Pre Work/ThinkStats2/code/hinc2.py:33: SettingWithCopyWarning: \n",
      "A value is trying to be set on a copy of a slice from a DataFrame\n",
      "\n",
      "See the caveats in the documentation: https://pandas.pydata.org/pandas-docs/stable/user_guide/indexing.html#returning-a-view-versus-a-copy\n",
      "  df.log_lower[0] = 3.0\n",
      "/Users/drewhibbard/Documents/Pre Work/ThinkStats2/code/hinc2.py:36: SettingWithCopyWarning: \n",
      "A value is trying to be set on a copy of a slice from a DataFrame\n",
      "\n",
      "See the caveats in the documentation: https://pandas.pydata.org/pandas-docs/stable/user_guide/indexing.html#returning-a-view-versus-a-copy\n",
      "  df.log_upper[41] = log_upper\n"
     ]
    }
   ],
   "source": [
    "log_sample = hinc2.InterpolateSample(cps)"
   ]
  },
  {
   "cell_type": "code",
   "execution_count": 25,
   "metadata": {},
   "outputs": [],
   "source": [
    "sample = np.power(10,log_sample)"
   ]
  },
  {
   "cell_type": "code",
   "execution_count": 36,
   "metadata": {},
   "outputs": [
    {
     "data": {
      "text/plain": [
       "(74278.7075311872, 93946.92996347835)"
      ]
     },
     "execution_count": 36,
     "metadata": {},
     "output_type": "execute_result"
    }
   ],
   "source": [
    "mean, std = (np.mean(sample), np.std(sample))\n",
    "mean, std"
   ]
  },
  {
   "cell_type": "code",
   "execution_count": 27,
   "metadata": {},
   "outputs": [
    {
     "data": {
      "text/plain": [
       "51226.93306562372"
      ]
     },
     "execution_count": 27,
     "metadata": {},
     "output_type": "execute_result"
    }
   ],
   "source": [
    "np.median(sample)"
   ]
  },
  {
   "cell_type": "code",
   "execution_count": 28,
   "metadata": {},
   "outputs": [
    {
     "data": {
      "text/plain": [
       "4.949920244429584"
      ]
     },
     "execution_count": 28,
     "metadata": {},
     "output_type": "execute_result"
    }
   ],
   "source": [
    "# mean is greater than median, skewness should be positive\n",
    "stats.skew(sample)"
   ]
  },
  {
   "cell_type": "code",
   "execution_count": 40,
   "metadata": {},
   "outputs": [
    {
     "data": {
      "text/plain": [
       "66.00058795668718"
      ]
     },
     "execution_count": 40,
     "metadata": {},
     "output_type": "execute_result"
    }
   ],
   "source": [
    "# fraction of households below the mean\n",
    "stats.percentileofscore(sample,mean)"
   ]
  },
  {
   "cell_type": "markdown",
   "metadata": {},
   "source": [
    "The value chosen for the upper income bound has a significant effect on the distribution of the data.  For example if we chose 10M instead of 1M, the mean and skewness would greatly increase, with the median remaining the same as before."
   ]
  },
  {
   "cell_type": "code",
   "execution_count": null,
   "metadata": {},
   "outputs": [],
   "source": []
  }
 ],
 "metadata": {
  "kernelspec": {
   "display_name": "Python 3",
   "language": "python",
   "name": "python3"
  },
  "language_info": {
   "codemirror_mode": {
    "name": "ipython",
    "version": 3
   },
   "file_extension": ".py",
   "mimetype": "text/x-python",
   "name": "python",
   "nbconvert_exporter": "python",
   "pygments_lexer": "ipython3",
   "version": "3.8.3"
  }
 },
 "nbformat": 4,
 "nbformat_minor": 4
}
